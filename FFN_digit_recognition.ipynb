{
  "cells": [
    {
      "cell_type": "code",
      "execution_count": 1,
      "metadata": {
        "id": "rGKB_rr4deRk"
      },
      "outputs": [],
      "source": [
        "# Bringing data [Motaz]\n",
        "# Hyper parameter optamization [Omar]\n",
        "# Save model in TensorFlow Lite [Omar]\n",
        "# Regularization (Drop Out) [Motaz]\n",
        "# Regularization (early stopping) [Motaz]\n",
        "# different optimization algorithms [Motaz]\n",
        "# Figuring optamization methods [Meqdad]\n",
        "# Mobile Application template [Meqdad]"
      ]
    },
    {
      "cell_type": "code",
      "execution_count": 2,
      "metadata": {
        "colab": {
          "base_uri": "https://localhost:8080/"
        },
        "id": "74Od7wGebLXc",
        "outputId": "1de7626e-f478-4ebd-e461-7b2b10ab64da"
      },
      "outputs": [
        {
          "name": "stdout",
          "output_type": "stream",
          "text": [
            "2.8.0\n"
          ]
        }
      ],
      "source": [
        "# TensorFlow and tf.keras\n",
        "import tensorflow as tf\n",
        "import keras_tuner as kt\n",
        "from tensorflow import keras\n",
        "\n",
        "from keras.callbacks import EarlyStopping\n",
        "from keras.layers.core import Dropout\n",
        "\n",
        "# Helper libraries\n",
        "import numpy as np\n",
        "import matplotlib.pyplot as plt\n",
        "import random\n",
        "\n",
        "print(tf.__version__)"
      ]
    },
    {
      "cell_type": "markdown",
      "metadata": {
        "id": "eSB0NKO5fCyt"
      },
      "source": [
        "The MNIST database contains 60,000 training images and 10,000 testing images of handwritten digits. We will use the dataset to train our digit classification model.\n",
        "\n",
        "Each image in the MNIST dataset is a 28x28 grayscale image containing a digit from 0 to 9, and a label identifying which digit is in the image."
      ]
    },
    {
      "cell_type": "code",
      "execution_count": 21,
      "metadata": {
        "id": "OXaCUuqmcIFM"
      },
      "outputs": [],
      "source": [
        "# Keras provides a handy API to download the MNIST dataset, and split them into\n",
        "# \"train\" dataset and \"test\" dataset.\n",
        "mnist = keras.datasets.mnist\n",
        "(train_images, train_labels), (test_images, test_labels) = mnist.load_data()"
      ]
    },
    {
      "cell_type": "code",
      "execution_count": 6,
      "metadata": {
        "colab": {
          "base_uri": "https://localhost:8080/",
          "height": 589
        },
        "id": "Rp2QfrFlfJvR",
        "outputId": "12898408-446c-4f23-8afd-8c21582dddcf"
      },
      "outputs": [
        {
          "data": {
            "image/png": "[encoded data removed]",
            "text/plain": [
              "<Figure size 720x720 with 25 Axes>"
            ]
          },
          "metadata": {},
          "output_type": "display_data"
        }
      ],
      "source": [
        "# Show the first 25 images in the training dataset.\n",
        "plt.figure(figsize=(10,10))\n",
        "for i in range(25):\n",
        "  plt.subplot(5,5,i+1)\n",
        "  plt.xticks([])\n",
        "  plt.yticks([])\n",
        "  plt.imshow(train_images[i], cmap=plt.cm.gray)\n",
        "  plt.xlabel(train_labels[i])\n",
        "plt.show()"
      ]
    },
    {
      "cell_type": "code",
      "execution_count": 23,
      "metadata": {
        "colab": {
          "base_uri": "https://localhost:8080/"
        },
        "id": "7PfmuhbgfdAA",
        "outputId": "f170fe92-c5ba-432e-ac7e-551b5dc86eee"
      },
      "outputs": [
        {
          "data": {
            "text/plain": [
              "(28, 28)"
            ]
          },
          "execution_count": 23,
          "metadata": {},
          "output_type": "execute_result"
        }
      ],
      "source": [
        "train_images[0].shape # 28px x 28px grayscale image"
      ]
    },
    {
      "cell_type": "code",
      "execution_count": 24,
      "metadata": {
        "id": "WxikfnvsN-xX"
      },
      "outputs": [],
      "source": [
        "train_images = train_images.astype(\"float\") / 225.0 # Normalizing the training data\n",
        "test_images = test_images.astype(\"float\") / 225.0 # Normalizing the testing data"
      ]
    },
    {
      "cell_type": "code",
      "execution_count": 10,
      "metadata": {
        "id": "KOzPObgUfEco"
      },
      "outputs": [],
      "source": [
        "first_model = keras.models.Sequential([ # build simple model and see accuracy\n",
        "        keras.layers.Flatten(),\n",
        "        keras.layers.Dense(128, activation = \"relu\", name = \"layer1\"),\n",
        "        keras.layers.Dense(128, activation = \"relu\", name = \"layer2\"),\n",
        "        keras.layers.Dense(128, activation = \"relu\", name = \"layer3\"),\n",
        "        keras.layers.Dense(128, activation = \"relu\", name = \"layer4\"),\n",
        "        \n",
        "        keras.layers.Dense(10, activation='softmax', name = \"output\"),\n",
        "])\n",
        "\n",
        "first_model.compile(loss='sparse_categorical_crossentropy', optimizer='adam', metrics=['accuracy'])"
      ]
    },
    {
      "cell_type": "code",
      "execution_count": 11,
      "metadata": {
        "colab": {
          "base_uri": "https://localhost:8080/"
        },
        "id": "p8KknegkiCop",
        "outputId": "4a6d2685-3969-4518-d4e1-61c5e443fa07"
      },
      "outputs": [
        {
          "name": "stdout",
          "output_type": "stream",
          "text": [
            "Epoch 1/10\n",
            "1875/1875 [==============================] - 10s 5ms/step - loss: 0.2313 - accuracy: 0.9310\n",
            "Epoch 2/10\n",
            "1875/1875 [==============================] - 9s 5ms/step - loss: 0.1127 - accuracy: 0.9655\n",
            "Epoch 3/10\n",
            "1875/1875 [==============================] - 10s 5ms/step - loss: 0.0842 - accuracy: 0.9736\n",
            "Epoch 4/10\n",
            "1875/1875 [==============================] - 9s 5ms/step - loss: 0.0694 - accuracy: 0.9792\n",
            "Epoch 5/10\n",
            "1875/1875 [==============================] - 9s 5ms/step - loss: 0.0611 - accuracy: 0.9817\n",
            "Epoch 6/10\n",
            "1875/1875 [==============================] - 9s 5ms/step - loss: 0.0494 - accuracy: 0.9847\n",
            "Epoch 7/10\n",
            "1875/1875 [==============================] - 9s 5ms/step - loss: 0.0447 - accuracy: 0.9863\n",
            "Epoch 8/10\n",
            "1875/1875 [==============================] - 9s 5ms/step - loss: 0.0409 - accuracy: 0.9874\n",
            "Epoch 9/10\n",
            "1875/1875 [==============================] - 10s 5ms/step - loss: 0.0355 - accuracy: 0.9898\n",
            "Epoch 10/10\n",
            "1875/1875 [==============================] - 9s 5ms/step - loss: 0.0323 - accuracy: 0.9904\n"
          ]
        },
        {
          "data": {
            "text/plain": [
              "<keras.callbacks.History at 0x7fef01596590>"
            ]
          },
          "execution_count": 11,
          "metadata": {},
          "output_type": "execute_result"
        }
      ],
      "source": [
        "first_model.fit(train_images, train_labels, \n",
        "          epochs = 10, \n",
        "          batch_size=32)"
      ]
    },
    {
      "cell_type": "code",
      "execution_count": 12,
      "metadata": {
        "colab": {
          "base_uri": "https://localhost:8080/"
        },
        "id": "AFr5iaGV6CF8",
        "outputId": "04f87270-d262-4e64-95d1-1b5c877d0489"
      },
      "outputs": [
        {
          "name": "stdout",
          "output_type": "stream",
          "text": [
            "313/313 [==============================] - 1s 2ms/step - loss: 0.1313 - accuracy: 0.9735\n"
          ]
        }
      ],
      "source": [
        "model1_eval = first_model.evaluate(test_images, test_labels, return_dict=True)"
      ]
    },
    {
      "cell_type": "code",
      "execution_count": 25,
      "metadata": {
        "id": "qTUKWwEY7MHQ"
      },
      "outputs": [],
      "source": [
        "def model_builder(hp: kt.HyperParameters) -> keras.models.Sequential:\n",
        "    \"\"\"function that take HyperParameters object to make diffreant values for hyperparameter optimization\n",
        "\n",
        "    Args:\n",
        "        hp (kt.HyperParameters): object contean function that allwod to make diffreant values\n",
        "\n",
        "    Returns:\n",
        "        _type_: keras.models.Sequential\n",
        "    \"\"\"\n",
        "    hp_units = hp.Int('units', min_value=128, max_value=512, step=32)\n",
        "    hp_optimizer = hp.Choice('optimizer', values=['adam','adamax'])\n",
        "    activations=hp.Choice(\"activation\", [\"relu\", \"tanh\"])\n",
        "\n",
        "    model_hp = keras.models.Sequential([\n",
        "                                    \n",
        "    keras.layers.Flatten(input_shape=(28, 28)),\n",
        "    keras.layers.Dense(units=hp_units, activation =activations, name = \"layer1\"),\n",
        "    Dropout(0.25),\n",
        "    keras.layers.Dense(units=hp_units, activation =activations, name = \"layer2\"),\n",
        "    Dropout(0.25),\n",
        "    keras.layers.Dense(units=hp_units, activation =activations, name = \"layer3\"),\n",
        "    Dropout(0.25),\n",
        "    keras.layers.Dense(units=hp_units, activation =activations, name = \"layer4\"),\n",
        "    Dropout(0.25),\n",
        "    \n",
        "    keras.layers.Dense(10, activation='softmax', name = \"output\"),\n",
        "    ])\n",
        "\n",
        "    model_hp.compile(loss='sparse_categorical_crossentropy', \n",
        "                    optimizer=hp_optimizer, \n",
        "                    metrics=['accuracy'])\n",
        "    \n",
        "    return model_hp\n",
        "\n"
      ]
    },
    {
      "cell_type": "code",
      "execution_count": 26,
      "metadata": {
        "id": "JPsA2yqn0ADp"
      },
      "outputs": [],
      "source": [
        "tuner = kt.RandomSearch(\n",
        "    hypermodel=model_builder,\n",
        "    objective=\"val_accuracy\",\n",
        "    max_trials=10,\n",
        "    executions_per_trial=3,\n",
        "    overwrite=True,\n",
        "    project_name=\"khyperband\",\n",
        ")"
      ]
    },
    {
      "cell_type": "code",
      "execution_count": 27,
      "metadata": {
        "colab": {
          "base_uri": "https://localhost:8080/"
        },
        "id": "Rd_sKf-u0rLo",
        "outputId": "4381b19c-0195-4b59-a031-19ef9aada10d"
      },
      "outputs": [
        {
          "name": "stdout",
          "output_type": "stream",
          "text": [
            "Search space summary\n",
            "Default search space size: 3\n",
            "units (Int)\n",
            "{'default': None, 'conditions': [], 'min_value': 128, 'max_value': 512, 'step': 32, 'sampling': None}\n",
            "optimizer (Choice)\n",
            "{'default': 'adam', 'conditions': [], 'values': ['adam', 'adamax'], 'ordered': False}\n",
            "activation (Choice)\n",
            "{'default': 'relu', 'conditions': [], 'values': ['relu', 'tanh'], 'ordered': False}\n"
          ]
        }
      ],
      "source": [
        "tuner.search_space_summary()"
      ]
    },
    {
      "cell_type": "code",
      "execution_count": 28,
      "metadata": {
        "id": "eCf_1BTH1Jkf"
      },
      "outputs": [],
      "source": [
        "x_train = train_images[:-10000]\n",
        "x_val = train_images[-10000:]\n",
        "y_train = train_labels[:-10000]\n",
        "y_val = train_labels[-10000:]"
      ]
    },
    {
      "cell_type": "markdown",
      "metadata": {},
      "source": [
        "split data to train and validation "
      ]
    },
    {
      "cell_type": "code",
      "execution_count": 29,
      "metadata": {
        "colab": {
          "base_uri": "https://localhost:8080/"
        },
        "id": "NDxgqU2d1Jm3",
        "outputId": "b756aebe-78df-455a-c3e0-afbff5367f35"
      },
      "outputs": [
        {
          "name": "stdout",
          "output_type": "stream",
          "text": [
            "Trial 10 Complete [00h 08m 01s]\n",
            "val_accuracy: 0.975000003973643\n",
            "\n",
            "Best val_accuracy So Far: 0.9815333485603333\n",
            "Total elapsed time: 01h 29m 55s\n",
            "INFO:tensorflow:Oracle triggered exit\n"
          ]
        }
      ],
      "source": [
        "tuner.search(x_train, y_train, \n",
        "             epochs=10, \n",
        "             validation_data=(x_val, y_val),\n",
        "             callbacks=[EarlyStopping(monitor='val_accuracy', patience=3)])"
      ]
    },
    {
      "cell_type": "code",
      "execution_count": 30,
      "metadata": {
        "id": "QgVxGkBf1Jpc"
      },
      "outputs": [],
      "source": [
        "models = tuner.get_best_models(num_models=2)\n",
        "best_model = models[0]"
      ]
    },
    {
      "cell_type": "markdown",
      "metadata": {},
      "source": [
        "take the best model"
      ]
    },
    {
      "cell_type": "code",
      "execution_count": 34,
      "metadata": {
        "colab": {
          "base_uri": "https://localhost:8080/"
        },
        "id": "MKaxhCdHzk9e",
        "outputId": "07512f21-38a1-4398-c40c-2c3783ee002f"
      },
      "outputs": [
        {
          "name": "stdout",
          "output_type": "stream",
          "text": [
            "Model: \"sequential\"\n",
            "_________________________________________________________________\n",
            " Layer (type)                Output Shape              Param #   \n",
            "=================================================================\n",
            " flatten (Flatten)           (None, 784)               0         \n",
            "                                                                 \n",
            " layer1 (Dense)              (None, 448)               351680    \n",
            "                                                                 \n",
            " dropout (Dropout)           (None, 448)               0         \n",
            "                                                                 \n",
            " layer2 (Dense)              (None, 448)               201152    \n",
            "                                                                 \n",
            " dropout_1 (Dropout)         (None, 448)               0         \n",
            "                                                                 \n",
            " layer3 (Dense)              (None, 448)               201152    \n",
            "                                                                 \n",
            " dropout_2 (Dropout)         (None, 448)               0         \n",
            "                                                                 \n",
            " layer4 (Dense)              (None, 448)               201152    \n",
            "                                                                 \n",
            " dropout_3 (Dropout)         (None, 448)               0         \n",
            "                                                                 \n",
            " output (Dense)              (None, 10)                4490      \n",
            "                                                                 \n",
            "=================================================================\n",
            "Total params: 959,626\n",
            "Trainable params: 959,626\n",
            "Non-trainable params: 0\n",
            "_________________________________________________________________\n"
          ]
        }
      ],
      "source": [
        "best_model.summary()"
      ]
    },
    {
      "cell_type": "code",
      "execution_count": 31,
      "metadata": {
        "colab": {
          "base_uri": "https://localhost:8080/"
        },
        "id": "WI3oLv145V12",
        "outputId": "09e64344-531c-48c9-ce43-8fa02b3ed3bd"
      },
      "outputs": [
        {
          "name": "stdout",
          "output_type": "stream",
          "text": [
            "313/313 [==============================] - 2s 5ms/step - loss: 0.0634 - accuracy: 0.9840\n"
          ]
        },
        {
          "data": {
            "text/plain": [
              "{'accuracy': 0.984000027179718, 'loss': 0.06342479586601257}"
            ]
          },
          "execution_count": 31,
          "metadata": {},
          "output_type": "execute_result"
        }
      ],
      "source": [
        "best_model.evaluate(test_images, test_labels, return_dict=True)"
      ]
    },
    {
      "cell_type": "markdown",
      "metadata": {},
      "source": [
        "good accuracy and loss"
      ]
    },
    {
      "cell_type": "code",
      "execution_count": 32,
      "metadata": {
        "colab": {
          "base_uri": "https://localhost:8080/"
        },
        "id": "EBt8_G-X6EkH",
        "outputId": "5df52f22-a9f5-4ee1-80ba-231b0c4f4d71"
      },
      "outputs": [
        {
          "data": {
            "text/plain": [
              "{'accuracy': 0.9735000133514404, 'loss': 0.13132120668888092}"
            ]
          },
          "execution_count": 32,
          "metadata": {},
          "output_type": "execute_result"
        }
      ],
      "source": [
        "model1_eval"
      ]
    },
    {
      "cell_type": "code",
      "execution_count": 33,
      "metadata": {
        "colab": {
          "base_uri": "https://localhost:8080/"
        },
        "id": "jLxIq_ZR4hCK",
        "outputId": "21d8d1b9-175a-46cf-c3c6-e0092ea2579f"
      },
      "outputs": [
        {
          "name": "stdout",
          "output_type": "stream",
          "text": [
            "INFO:tensorflow:Assets written to: /tmp/tmp7v9mvlsp/assets\n"
          ]
        },
        {
          "name": "stderr",
          "output_type": "stream",
          "text": [
            "WARNING:absl:Buffer deduplication procedure will be skipped when flatbuffer library is not properly loaded\n"
          ]
        }
      ],
      "source": [
        "# Convert the model.\n",
        "converter = tf.lite.TFLiteConverter.from_keras_model(best_model)\n",
        "tflite_model = converter.convert()\n",
        "\n",
        "# Save the model.\n",
        "with open('detect.tflite', 'wb') as f:\n",
        "  f.write(tflite_model)"
      ]
    },
    {
      "cell_type": "code",
      "execution_count": null,
      "metadata": {
        "id": "U9G61bf88Udf"
      },
      "outputs": [],
      "source": []
    }
  ],
  "metadata": {
    "colab": {
      "collapsed_sections": [],
      "name": "FFN_digit_recognition.ipynb",
      "provenance": []
    },
    "kernelspec": {
      "display_name": "Python 3",
      "name": "python3"
    },
    "language_info": {
      "codemirror_mode": {
        "name": "ipython",
        "version": 3
      },
      "file_extension": ".py",
      "mimetype": "text/x-python",
      "name": "python",
      "nbconvert_exporter": "python",
      "pygments_lexer": "ipython3",
      "version": "3.9.2"
    }
  },
  "nbformat": 4,
  "nbformat_minor": 0
}
